{
 "cells": [
  {
   "cell_type": "code",
   "execution_count": 60,
   "metadata": {},
   "outputs": [],
   "source": [
    "import pandas as pd"
   ]
  },
  {
   "cell_type": "code",
   "execution_count": 166,
   "metadata": {},
   "outputs": [],
   "source": [
    "from wordcloud import WordCloud"
   ]
  },
  {
   "cell_type": "code",
   "execution_count": 168,
   "metadata": {},
   "outputs": [],
   "source": [
    "from collections import Counter"
   ]
  },
  {
   "cell_type": "code",
   "execution_count": 61,
   "metadata": {},
   "outputs": [],
   "source": [
    "grants = pd.read_csv('grants (1).csv')"
   ]
  },
  {
   "cell_type": "code",
   "execution_count": 62,
   "metadata": {},
   "outputs": [],
   "source": [
    "grants = grants.drop(columns=['amendment_number', 'amendment_date', 'agreement_type', 'naics_identifier', 'owner_org'])"
   ]
  },
  {
   "cell_type": "code",
   "execution_count": 63,
   "metadata": {},
   "outputs": [
    {
     "data": {
      "text/html": [
       "<div>\n",
       "<style scoped>\n",
       "    .dataframe tbody tr th:only-of-type {\n",
       "        vertical-align: middle;\n",
       "    }\n",
       "\n",
       "    .dataframe tbody tr th {\n",
       "        vertical-align: top;\n",
       "    }\n",
       "\n",
       "    .dataframe thead th {\n",
       "        text-align: right;\n",
       "    }\n",
       "</style>\n",
       "<table border=\"1\" class=\"dataframe\">\n",
       "  <thead>\n",
       "    <tr style=\"text-align: right;\">\n",
       "      <th></th>\n",
       "      <th>ref_number</th>\n",
       "      <th>recipient_legal_name</th>\n",
       "      <th>recipient_city</th>\n",
       "      <th>prog_name_en</th>\n",
       "      <th>prog_purpose_en</th>\n",
       "      <th>agreement_title_en</th>\n",
       "      <th>agreement_number</th>\n",
       "      <th>agreement_value</th>\n",
       "      <th>agreement_start_date</th>\n",
       "      <th>agreement_end_date</th>\n",
       "      <th>description_en</th>\n",
       "      <th>expected_results_en</th>\n",
       "      <th>additional_information_en</th>\n",
       "      <th>owner_org_title</th>\n",
       "    </tr>\n",
       "  </thead>\n",
       "  <tbody>\n",
       "    <tr>\n",
       "      <th>0</th>\n",
       "      <td>GC-2017-Q1-00001</td>\n",
       "      <td>Agriculture in the Classroom Canada</td>\n",
       "      <td>Headingley, Manitoba</td>\n",
       "      <td>AgriCompetitiveness: Fostering Business Develo...</td>\n",
       "      <td>AgriCompetitiveness Program -Fostering Busines...</td>\n",
       "      <td>Fostering Youth Development and Leadership to ...</td>\n",
       "      <td>GF2-FBD-009</td>\n",
       "      <td>567786.0</td>\n",
       "      <td>2017-05-23</td>\n",
       "      <td>NaN</td>\n",
       "      <td>NaN</td>\n",
       "      <td>NaN</td>\n",
       "      <td>NaN</td>\n",
       "      <td>Agriculture and Agri-Food Canada | Agriculture...</td>\n",
       "    </tr>\n",
       "    <tr>\n",
       "      <th>1</th>\n",
       "      <td>GC-2017-Q1-00002</td>\n",
       "      <td>Amra Services Inc.</td>\n",
       "      <td>Coquitlam, British Columbia|Coquitlam, Colombi...</td>\n",
       "      <td>AgriMarketing: Market Development</td>\n",
       "      <td>AgriMarketing Program - Market Development (AM...</td>\n",
       "      <td>Glutenull Export and Market Development</td>\n",
       "      <td>GF2-MD-757</td>\n",
       "      <td>39240.0</td>\n",
       "      <td>2017-05-18</td>\n",
       "      <td>NaN</td>\n",
       "      <td>NaN</td>\n",
       "      <td>NaN</td>\n",
       "      <td>NaN</td>\n",
       "      <td>Agriculture and Agri-Food Canada | Agriculture...</td>\n",
       "    </tr>\n",
       "    <tr>\n",
       "      <th>2</th>\n",
       "      <td>GC-2017-Q1-00003</td>\n",
       "      <td>Atlantic Grains Council</td>\n",
       "      <td>Moncton, New Brunswick|Moncton, Nouveau  Bruns...</td>\n",
       "      <td>Agri-innovation: IND-LED - R and D</td>\n",
       "      <td>Agri-Innovations Program -Industry Led Researc...</td>\n",
       "      <td>Focused Research for Atlantic Grains and Oilse...</td>\n",
       "      <td>AIP-P264 Amnd #1</td>\n",
       "      <td>761657.0</td>\n",
       "      <td>2017-04-20</td>\n",
       "      <td>NaN</td>\n",
       "      <td>NaN</td>\n",
       "      <td>NaN</td>\n",
       "      <td>This entry reflects an increase of $107,593.00...</td>\n",
       "      <td>Agriculture and Agri-Food Canada | Agriculture...</td>\n",
       "    </tr>\n",
       "    <tr>\n",
       "      <th>3</th>\n",
       "      <td>GC-2017-Q1-00004</td>\n",
       "      <td>Bioline Corporation</td>\n",
       "      <td>Alvinston, Ontario</td>\n",
       "      <td>Agri-innovation: IND-LED - R and D</td>\n",
       "      <td>Agri-Innovations Program -Industry Led Researc...</td>\n",
       "      <td>Separation and Purification of Fulvic Acid fro...</td>\n",
       "      <td>AIP-P393</td>\n",
       "      <td>259174.0</td>\n",
       "      <td>2017-06-05</td>\n",
       "      <td>NaN</td>\n",
       "      <td>NaN</td>\n",
       "      <td>NaN</td>\n",
       "      <td>NaN</td>\n",
       "      <td>Agriculture and Agri-Food Canada | Agriculture...</td>\n",
       "    </tr>\n",
       "    <tr>\n",
       "      <th>4</th>\n",
       "      <td>GC-2017-Q1-00005</td>\n",
       "      <td>Canadian Association of Importers and Exporter...</td>\n",
       "      <td>Toronto, Ontario</td>\n",
       "      <td>AgriMarketing: Assurance Systems</td>\n",
       "      <td>AgriMarketing Program -Assurance Systems Strea...</td>\n",
       "      <td>I.E. Canada Importer Food Safety Assurance Sta...</td>\n",
       "      <td>GF2-AS-066</td>\n",
       "      <td>312693.0</td>\n",
       "      <td>2017-06-30</td>\n",
       "      <td>NaN</td>\n",
       "      <td>NaN</td>\n",
       "      <td>NaN</td>\n",
       "      <td>NaN</td>\n",
       "      <td>Agriculture and Agri-Food Canada | Agriculture...</td>\n",
       "    </tr>\n",
       "  </tbody>\n",
       "</table>\n",
       "</div>"
      ],
      "text/plain": [
       "         ref_number                               recipient_legal_name  \\\n",
       "0  GC-2017-Q1-00001                Agriculture in the Classroom Canada   \n",
       "1  GC-2017-Q1-00002                                 Amra Services Inc.   \n",
       "2  GC-2017-Q1-00003                            Atlantic Grains Council   \n",
       "3  GC-2017-Q1-00004                                Bioline Corporation   \n",
       "4  GC-2017-Q1-00005  Canadian Association of Importers and Exporter...   \n",
       "\n",
       "                                      recipient_city  \\\n",
       "0                               Headingley, Manitoba   \n",
       "1  Coquitlam, British Columbia|Coquitlam, Colombi...   \n",
       "2  Moncton, New Brunswick|Moncton, Nouveau  Bruns...   \n",
       "3                                 Alvinston, Ontario   \n",
       "4                                   Toronto, Ontario   \n",
       "\n",
       "                                        prog_name_en  \\\n",
       "0  AgriCompetitiveness: Fostering Business Develo...   \n",
       "1                  AgriMarketing: Market Development   \n",
       "2                 Agri-innovation: IND-LED - R and D   \n",
       "3                 Agri-innovation: IND-LED - R and D   \n",
       "4                   AgriMarketing: Assurance Systems   \n",
       "\n",
       "                                     prog_purpose_en  \\\n",
       "0  AgriCompetitiveness Program -Fostering Busines...   \n",
       "1  AgriMarketing Program - Market Development (AM...   \n",
       "2  Agri-Innovations Program -Industry Led Researc...   \n",
       "3  Agri-Innovations Program -Industry Led Researc...   \n",
       "4  AgriMarketing Program -Assurance Systems Strea...   \n",
       "\n",
       "                                  agreement_title_en  agreement_number  \\\n",
       "0  Fostering Youth Development and Leadership to ...       GF2-FBD-009   \n",
       "1            Glutenull Export and Market Development        GF2-MD-757   \n",
       "2  Focused Research for Atlantic Grains and Oilse...  AIP-P264 Amnd #1   \n",
       "3  Separation and Purification of Fulvic Acid fro...          AIP-P393   \n",
       "4  I.E. Canada Importer Food Safety Assurance Sta...        GF2-AS-066   \n",
       "\n",
       "   agreement_value agreement_start_date agreement_end_date description_en  \\\n",
       "0         567786.0           2017-05-23                NaN            NaN   \n",
       "1          39240.0           2017-05-18                NaN            NaN   \n",
       "2         761657.0           2017-04-20                NaN            NaN   \n",
       "3         259174.0           2017-06-05                NaN            NaN   \n",
       "4         312693.0           2017-06-30                NaN            NaN   \n",
       "\n",
       "  expected_results_en                          additional_information_en  \\\n",
       "0                 NaN                                                NaN   \n",
       "1                 NaN                                                NaN   \n",
       "2                 NaN  This entry reflects an increase of $107,593.00...   \n",
       "3                 NaN                                                NaN   \n",
       "4                 NaN                                                NaN   \n",
       "\n",
       "                                     owner_org_title  \n",
       "0  Agriculture and Agri-Food Canada | Agriculture...  \n",
       "1  Agriculture and Agri-Food Canada | Agriculture...  \n",
       "2  Agriculture and Agri-Food Canada | Agriculture...  \n",
       "3  Agriculture and Agri-Food Canada | Agriculture...  \n",
       "4  Agriculture and Agri-Food Canada | Agriculture...  "
      ]
     },
     "execution_count": 63,
     "metadata": {},
     "output_type": "execute_result"
    }
   ],
   "source": [
    "grants.head()"
   ]
  },
  {
   "cell_type": "code",
   "execution_count": 65,
   "metadata": {},
   "outputs": [],
   "source": [
    "grants.to_csv(r'GrantsCleanUp.csv')"
   ]
  },
  {
   "cell_type": "code",
   "execution_count": 72,
   "metadata": {},
   "outputs": [],
   "source": [
    "AgriCult = grants[grants['owner_org_title'].str.contains('Agriculture and Agri-Food Canada', na=False)]"
   ]
  },
  {
   "cell_type": "code",
   "execution_count": 76,
   "metadata": {},
   "outputs": [],
   "source": [
    "SortedAgriCult = AgriCult.sort_values(by=['prog_name_en'])"
   ]
  },
  {
   "cell_type": "code",
   "execution_count": 79,
   "metadata": {},
   "outputs": [],
   "source": [
    "SortedAgriCult.to_csv(r'Sorted_Agri_Cult.csv')"
   ]
  },
  {
   "cell_type": "code",
   "execution_count": 80,
   "metadata": {},
   "outputs": [],
   "source": [
    "InnoAndScience = grants[grants['owner_org_title'].str.contains('Innovation, Science and Economic Development Canada', na=False)]"
   ]
  },
  {
   "cell_type": "code",
   "execution_count": 82,
   "metadata": {},
   "outputs": [],
   "source": [
    "SortedInnoAndScience = InnoAndScience.sort_values(by=['prog_name_en'])"
   ]
  },
  {
   "cell_type": "code",
   "execution_count": 83,
   "metadata": {},
   "outputs": [],
   "source": [
    "SortedInnoAndScience.to_csv(r'Sorted_Inno_And_Science')"
   ]
  },
  {
   "cell_type": "code",
   "execution_count": 84,
   "metadata": {},
   "outputs": [],
   "source": [
    "AtlanticCanadaOpportAgency = grants[grants['owner_org_title'].str.contains('Atlantic Canada Opportunities Agency', na=False)]"
   ]
  },
  {
   "cell_type": "code",
   "execution_count": 85,
   "metadata": {},
   "outputs": [],
   "source": [
    "SortedAtlanticCanadaOpportAgency = AtlanticCanadaOpportAgency.sort_values(by=['prog_name_en'])"
   ]
  },
  {
   "cell_type": "code",
   "execution_count": 86,
   "metadata": {},
   "outputs": [],
   "source": [
    "SortedAtlanticCanadaOpportAgency.to_csv(r'Sorted_Atlantic_Canada_Opp_Agency')"
   ]
  },
  {
   "cell_type": "code",
   "execution_count": 89,
   "metadata": {},
   "outputs": [],
   "source": [
    "CanadaEconomicDevQuebec = grants[grants['owner_org_title'].str.contains('Canada Economic Development for Quebec Regions', na=False)]"
   ]
  },
  {
   "cell_type": "code",
   "execution_count": 90,
   "metadata": {},
   "outputs": [],
   "source": [
    "SortedCanadaEconomicDevQuebec = CanadaEconomicDevQuebec.sort_values(by=['prog_name_en'])"
   ]
  },
  {
   "cell_type": "code",
   "execution_count": 91,
   "metadata": {},
   "outputs": [],
   "source": [
    "SortedCanadaEconomicDevQuebec.to_csv(r'Sorted_Canada_Economic_Dev_Quebec')"
   ]
  },
  {
   "cell_type": "code",
   "execution_count": 96,
   "metadata": {},
   "outputs": [],
   "source": [
    "CanadianHeritage = grants[grants['owner_org_title'].str.contains('Canadian Heritage', na=False)]"
   ]
  },
  {
   "cell_type": "code",
   "execution_count": 97,
   "metadata": {},
   "outputs": [],
   "source": [
    "SortedCanadianHeritage = CanadianHeritage.sort_values(by=['prog_name_en'])"
   ]
  },
  {
   "cell_type": "code",
   "execution_count": 98,
   "metadata": {},
   "outputs": [],
   "source": [
    "SortedCanadianHeritage.to_csv(r'Sorted_Canadian_Heritage')"
   ]
  },
  {
   "cell_type": "code",
   "execution_count": 99,
   "metadata": {},
   "outputs": [],
   "source": [
    "CanadianNorthernEcoDevAgency = grants[grants['owner_org_title'].str.contains('Canadian Northern Economic Development Agency', na=False)]"
   ]
  },
  {
   "cell_type": "code",
   "execution_count": 101,
   "metadata": {},
   "outputs": [],
   "source": [
    "SortedCanadianNorthernEcoDevAgency = CanadianNorthernEcoDevAgency.sort_values(by=['prog_name_en'])"
   ]
  },
  {
   "cell_type": "code",
   "execution_count": 102,
   "metadata": {},
   "outputs": [],
   "source": [
    "SortedCanadianNorthernEcoDevAgency.to_csv(r'Sorted_Canadian_Northern_Economic_Development_Agency')"
   ]
  },
  {
   "cell_type": "code",
   "execution_count": 103,
   "metadata": {},
   "outputs": [],
   "source": [
    "CanadianSpaceAgency = grants[grants['owner_org_title'].str.contains('Canadian Space Agency', na=False)]"
   ]
  },
  {
   "cell_type": "code",
   "execution_count": 105,
   "metadata": {},
   "outputs": [],
   "source": [
    "SortedCanadianSpaceAgency = CanadianSpaceAgency.sort_values(by=['prog_name_en'])"
   ]
  },
  {
   "cell_type": "code",
   "execution_count": 106,
   "metadata": {},
   "outputs": [],
   "source": [
    "SortedCanadianSpaceAgency.to_csv(r'Sorted_Canadian_Space_Agency')"
   ]
  },
  {
   "cell_type": "code",
   "execution_count": 111,
   "metadata": {},
   "outputs": [],
   "source": [
    "EnvironmentAndClimateChangeCanada = grants[grants['owner_org_title'].str.contains('Environment and Climate Change Canada', na=False)]"
   ]
  },
  {
   "cell_type": "code",
   "execution_count": 112,
   "metadata": {},
   "outputs": [],
   "source": [
    "SortedEnvironmentAndClimateChangeCanada = EnvironmentAndClimateChangeCanada.sort_values(by=['prog_name_en'])"
   ]
  },
  {
   "cell_type": "code",
   "execution_count": 113,
   "metadata": {},
   "outputs": [],
   "source": [
    "SortedEnvironmentAndClimateChangeCanada.to_csv(r'Sorted_Environment_And_Climate_Change_Canada')"
   ]
  },
  {
   "cell_type": "code",
   "execution_count": 114,
   "metadata": {},
   "outputs": [],
   "source": [
    "FEDAFORSOUTHERNONTARIO = grants[grants['owner_org_title'].str.contains('Federal Economic Development Agency for Southern Ontario', na=False)]"
   ]
  },
  {
   "cell_type": "code",
   "execution_count": 115,
   "metadata": {},
   "outputs": [],
   "source": [
    "SortedFEDAFORSOUTHERNONTARIO = FEDAFORSOUTHERNONTARIO.sort_values(by=['prog_name_en'])"
   ]
  },
  {
   "cell_type": "code",
   "execution_count": 117,
   "metadata": {},
   "outputs": [],
   "source": [
    "SortedFEDAFORSOUTHERNONTARIO.to_csv(r'Sorted_FEDA_Southern_Ontario')"
   ]
  },
  {
   "cell_type": "code",
   "execution_count": 118,
   "metadata": {},
   "outputs": [],
   "source": [
    "FISHIES = grants[grants['owner_org_title'].str.contains('Fisheries and Oceans Canada', na=False)]"
   ]
  },
  {
   "cell_type": "code",
   "execution_count": 119,
   "metadata": {},
   "outputs": [],
   "source": [
    "FISHIES = FISHIES.sort_values(by=['prog_name_en'])"
   ]
  },
  {
   "cell_type": "code",
   "execution_count": 121,
   "metadata": {},
   "outputs": [],
   "source": [
    "FISHIES.to_csv(r'Sorted_Fisheries_And_Oceans_Canada')"
   ]
  },
  {
   "cell_type": "code",
   "execution_count": 123,
   "metadata": {},
   "outputs": [],
   "source": [
    "GA = grants[grants['owner_org_title'].str.contains('Global Affairs Canada', na=False)]"
   ]
  },
  {
   "cell_type": "code",
   "execution_count": 125,
   "metadata": {},
   "outputs": [],
   "source": [
    "GA = GA.sort_values(by=['prog_name_en'])"
   ]
  },
  {
   "cell_type": "code",
   "execution_count": 126,
   "metadata": {},
   "outputs": [],
   "source": [
    "GA.to_csv(r'Sorted_Global_Affairs_Canada')"
   ]
  },
  {
   "cell_type": "code",
   "execution_count": 154,
   "metadata": {},
   "outputs": [],
   "source": [
    "NRC = grants[grants['owner_org_title'].str.contains('National Research Council', na=False)]"
   ]
  },
  {
   "cell_type": "code",
   "execution_count": 157,
   "metadata": {},
   "outputs": [],
   "source": [
    "SortedNRC = NRC.sort_values(by=['prog_name_en'])"
   ]
  },
  {
   "cell_type": "code",
   "execution_count": 158,
   "metadata": {},
   "outputs": [],
   "source": [
    "SortedNRC.to_csv(r'Sorted_N_R_C')"
   ]
  },
  {
   "cell_type": "code",
   "execution_count": 130,
   "metadata": {},
   "outputs": [],
   "source": [
    "NaturalResourcesCanada = grants[grants['owner_org_title'].str.contains('Natural Resources Canada', na=False)]"
   ]
  },
  {
   "cell_type": "code",
   "execution_count": 132,
   "metadata": {},
   "outputs": [],
   "source": [
    "SortedNaturalResourcesCanada = NaturalResourcesCanada.sort_values(by=['prog_name_en'])"
   ]
  },
  {
   "cell_type": "code",
   "execution_count": 133,
   "metadata": {},
   "outputs": [],
   "source": [
    "SortedNaturalResourcesCanada.to_csv(r'Sorted_Natural_Resources_Canada')"
   ]
  },
  {
   "cell_type": "code",
   "execution_count": 134,
   "metadata": {},
   "outputs": [],
   "source": [
    "NaturalSciencesAndEngineeringResearchCouncil = grants[grants['owner_org_title'].str.contains('Natural Sciences and Engineering Research Council', na=False)]"
   ]
  },
  {
   "cell_type": "code",
   "execution_count": 136,
   "metadata": {},
   "outputs": [],
   "source": [
    "SortedNaturalSciencesAndEngineeringResearchCouncil = NaturalSciencesAndEngineeringResearchCouncil.sort_values(by=['prog_name_en'])"
   ]
  },
  {
   "cell_type": "code",
   "execution_count": 137,
   "metadata": {},
   "outputs": [],
   "source": [
    "SortedNaturalSciencesAndEngineeringResearchCouncil.to_csv(r'Sorted_Natural_Sciences_And_Engineering_Research_Council')"
   ]
  },
  {
   "cell_type": "code",
   "execution_count": 142,
   "metadata": {},
   "outputs": [],
   "source": [
    "WesternEconomicDiversCanada = grants[grants['owner_org_title'].str.contains('Western Economic Diversification Canada', na=False)]"
   ]
  },
  {
   "cell_type": "code",
   "execution_count": 144,
   "metadata": {},
   "outputs": [],
   "source": [
    "SortedWesternEconomicDiversCanada = WesternEconomicDiversCanada.sort_values(by=['prog_name_en'])"
   ]
  },
  {
   "cell_type": "code",
   "execution_count": 146,
   "metadata": {},
   "outputs": [],
   "source": [
    "SortedWesternEconomicDiversCanada.to_csv(r'Sorted_Western_Economic_Diversification_Canada')"
   ]
  },
  {
   "cell_type": "code",
   "execution_count": 149,
   "metadata": {},
   "outputs": [],
   "source": [
    "ESDC = grants[grants['owner_org_title'].str.contains('Employment and Social Development Canada', na=False)]"
   ]
  },
  {
   "cell_type": "code",
   "execution_count": 150,
   "metadata": {},
   "outputs": [],
   "source": [
    "SortedESDC = ESDC.sort_values(by=['prog_name_en'])"
   ]
  },
  {
   "cell_type": "code",
   "execution_count": 175,
   "metadata": {},
   "outputs": [],
   "source": [
    "SortedESDC.to_csv(r'Sorted_ESDC')"
   ]
  },
  {
   "cell_type": "code",
   "execution_count": 572,
   "metadata": {},
   "outputs": [],
   "source": [
    "#Cleaning Federal Economic Development Agency for Southern Ontario"
   ]
  },
  {
   "cell_type": "code",
   "execution_count": 573,
   "metadata": {},
   "outputs": [],
   "source": [
    "grouped = SortedFEDAFORSOUTHERNONTARIO.groupby(['prog_name_en', 'recipient_city']).sum()"
   ]
  },
  {
   "cell_type": "code",
   "execution_count": 574,
   "metadata": {},
   "outputs": [],
   "source": [
    "#DepartmentName: Federal Economic Development Agency for Southern Ontario\n",
    "#The table is showing the total amount allocated for programs from the FEDASO Department\n",
    "#It also shows where exactly the program spent their money and how much"
   ]
  },
  {
   "cell_type": "code",
   "execution_count": 575,
   "metadata": {},
   "outputs": [
    {
     "data": {
      "text/html": [
       "<div>\n",
       "<style scoped>\n",
       "    .dataframe tbody tr th:only-of-type {\n",
       "        vertical-align: middle;\n",
       "    }\n",
       "\n",
       "    .dataframe tbody tr th {\n",
       "        vertical-align: top;\n",
       "    }\n",
       "\n",
       "    .dataframe thead th {\n",
       "        text-align: right;\n",
       "    }\n",
       "</style>\n",
       "<table border=\"1\" class=\"dataframe\">\n",
       "  <thead>\n",
       "    <tr style=\"text-align: right;\">\n",
       "      <th></th>\n",
       "      <th></th>\n",
       "      <th>agreement_value</th>\n",
       "    </tr>\n",
       "    <tr>\n",
       "      <th>prog_name_en</th>\n",
       "      <th>recipient_city</th>\n",
       "      <th></th>\n",
       "    </tr>\n",
       "  </thead>\n",
       "  <tbody>\n",
       "    <tr>\n",
       "      <th rowspan=\"5\" valign=\"top\">Business Scale-Up</th>\n",
       "      <th>Arnprior</th>\n",
       "      <td>6179750.0</td>\n",
       "    </tr>\n",
       "    <tr>\n",
       "      <th>Bolton</th>\n",
       "      <td>750000.0</td>\n",
       "    </tr>\n",
       "    <tr>\n",
       "      <th>Brantford</th>\n",
       "      <td>4112200.0</td>\n",
       "    </tr>\n",
       "    <tr>\n",
       "      <th>Burlington</th>\n",
       "      <td>2151187.0</td>\n",
       "    </tr>\n",
       "    <tr>\n",
       "      <th>Cambridge</th>\n",
       "      <td>1846437.0</td>\n",
       "    </tr>\n",
       "    <tr>\n",
       "      <th>...</th>\n",
       "      <th>...</th>\n",
       "      <td>...</td>\n",
       "    </tr>\n",
       "    <tr>\n",
       "      <th rowspan=\"5\" valign=\"top\">Women Entrepreneurship Fund</th>\n",
       "      <th>Thornhill</th>\n",
       "      <td>100000.0</td>\n",
       "    </tr>\n",
       "    <tr>\n",
       "      <th>Toronto</th>\n",
       "      <td>1245000.0</td>\n",
       "    </tr>\n",
       "    <tr>\n",
       "      <th>Waterloo</th>\n",
       "      <td>100000.0</td>\n",
       "    </tr>\n",
       "    <tr>\n",
       "      <th>Whitby</th>\n",
       "      <td>100000.0</td>\n",
       "    </tr>\n",
       "    <tr>\n",
       "      <th>Windsor</th>\n",
       "      <td>100000.0</td>\n",
       "    </tr>\n",
       "  </tbody>\n",
       "</table>\n",
       "<p>208 rows × 1 columns</p>\n",
       "</div>"
      ],
      "text/plain": [
       "                                            agreement_value\n",
       "prog_name_en                recipient_city                 \n",
       "Business Scale-Up           Arnprior              6179750.0\n",
       "                            Bolton                 750000.0\n",
       "                            Brantford             4112200.0\n",
       "                            Burlington            2151187.0\n",
       "                            Cambridge             1846437.0\n",
       "...                                                     ...\n",
       "Women Entrepreneurship Fund Thornhill              100000.0\n",
       "                            Toronto               1245000.0\n",
       "                            Waterloo               100000.0\n",
       "                            Whitby                 100000.0\n",
       "                            Windsor                100000.0\n",
       "\n",
       "[208 rows x 1 columns]"
      ]
     },
     "execution_count": 575,
     "metadata": {},
     "output_type": "execute_result"
    }
   ],
   "source": [
    "grouped"
   ]
  },
  {
   "cell_type": "code",
   "execution_count": 604,
   "metadata": {},
   "outputs": [],
   "source": [
    "#Cleaning Sorted ESDC Data"
   ]
  },
  {
   "cell_type": "code",
   "execution_count": 605,
   "metadata": {},
   "outputs": [],
   "source": [
    "SortedESDC['year'] = pd.DatetimeIndex(SortedESDC['agreement_start_date']).year"
   ]
  },
  {
   "cell_type": "code",
   "execution_count": 606,
   "metadata": {},
   "outputs": [],
   "source": [
    "SortedESDCclean = SortedESDC.drop(columns=['ref_number', 'prog_name_en','prog_purpose_en','agreement_title_en','agreement_number', 'agreement_start_date', 'owner_org_title', 'agreement_end_date', 'description_en', 'expected_results_en', 'additional_information_en'])"
   ]
  },
  {
   "cell_type": "code",
   "execution_count": 607,
   "metadata": {},
   "outputs": [],
   "source": [
    "SortedESDCclean = SortedESDCclean.sort_values(by=['recipient_city'])"
   ]
  },
  {
   "cell_type": "code",
   "execution_count": 608,
   "metadata": {},
   "outputs": [],
   "source": [
    "SortedESDCcleanCity2 = SortedESDCclean.groupby('year').sum()"
   ]
  },
  {
   "cell_type": "code",
   "execution_count": 609,
   "metadata": {},
   "outputs": [],
   "source": [
    "SortedESDCcleanCityGROUPED = SortedESDCclean.groupby(['recipient_city', 'year']).sum()"
   ]
  },
  {
   "cell_type": "code",
   "execution_count": 610,
   "metadata": {},
   "outputs": [],
   "source": [
    "import numpy as np"
   ]
  },
  {
   "cell_type": "code",
   "execution_count": 611,
   "metadata": {},
   "outputs": [],
   "source": [
    "ESDCVALUE1 = SortedESDCcleanCityGROUPED.reset_index().groupby('recipient_city')['agreement_value'].apply(np.array)"
   ]
  },
  {
   "cell_type": "code",
   "execution_count": 612,
   "metadata": {},
   "outputs": [],
   "source": [
    "ESDCTIME = SortedESDCcleanCityGROUPED.reset_index().groupby('recipient_city')['year'].apply(np.array)"
   ]
  },
  {
   "cell_type": "code",
   "execution_count": 613,
   "metadata": {},
   "outputs": [],
   "source": [
    "ESDCOVER_VALUE_TIME = pd.merge(ESDCFUCKERY1, ESDCFUCKERY2, on='recipient_city')"
   ]
  },
  {
   "cell_type": "code",
   "execution_count": 617,
   "metadata": {},
   "outputs": [],
   "source": [
    "#This table shows exactly how much each recipient city has received in funding over time \n",
    "#This would have been ideal if it was province instead of city but the data did not help\n",
    "#We can easily run a program which replaces all cities with provinces group it and present it in a cleaner way"
   ]
  },
  {
   "cell_type": "code",
   "execution_count": 603,
   "metadata": {},
   "outputs": [
    {
     "data": {
      "text/html": [
       "<div>\n",
       "<style scoped>\n",
       "    .dataframe tbody tr th:only-of-type {\n",
       "        vertical-align: middle;\n",
       "    }\n",
       "\n",
       "    .dataframe tbody tr th {\n",
       "        vertical-align: top;\n",
       "    }\n",
       "\n",
       "    .dataframe thead th {\n",
       "        text-align: right;\n",
       "    }\n",
       "</style>\n",
       "<table border=\"1\" class=\"dataframe\">\n",
       "  <thead>\n",
       "    <tr style=\"text-align: right;\">\n",
       "      <th></th>\n",
       "      <th>agreement_value</th>\n",
       "      <th>year</th>\n",
       "    </tr>\n",
       "    <tr>\n",
       "      <th>recipient_city</th>\n",
       "      <th></th>\n",
       "      <th></th>\n",
       "    </tr>\n",
       "  </thead>\n",
       "  <tbody>\n",
       "    <tr>\n",
       "      <th>St-Aimé-des-Lacs</th>\n",
       "      <td>[0.0]</td>\n",
       "      <td>[2019]</td>\n",
       "    </tr>\n",
       "    <tr>\n",
       "      <th>100 Mile House</th>\n",
       "      <td>[390035.0, 255392.0, 84007.0, 244203.0, 297318...</td>\n",
       "      <td>[2006, 2007, 2008, 2009, 2010, 2012, 2013, 201...</td>\n",
       "    </tr>\n",
       "    <tr>\n",
       "      <th>108 Mile Ranch</th>\n",
       "      <td>[9108.0, 26177.0]</td>\n",
       "      <td>[2018, 2019]</td>\n",
       "    </tr>\n",
       "    <tr>\n",
       "      <th>150 Mile House</th>\n",
       "      <td>[5781.0, 6352.0]</td>\n",
       "      <td>[2018, 2019]</td>\n",
       "    </tr>\n",
       "    <tr>\n",
       "      <th>70 Mile House</th>\n",
       "      <td>[17644.0]</td>\n",
       "      <td>[2019]</td>\n",
       "    </tr>\n",
       "    <tr>\n",
       "      <th>...</th>\n",
       "      <td>...</td>\n",
       "      <td>...</td>\n",
       "    </tr>\n",
       "    <tr>\n",
       "      <th>Étang-du-Nord</th>\n",
       "      <td>[6830.0]</td>\n",
       "      <td>[2019]</td>\n",
       "    </tr>\n",
       "    <tr>\n",
       "      <th>Île-a-la-Crosse</th>\n",
       "      <td>[21900.0]</td>\n",
       "      <td>[2019]</td>\n",
       "    </tr>\n",
       "    <tr>\n",
       "      <th>Île-aux-grues</th>\n",
       "      <td>[1440.0]</td>\n",
       "      <td>[2018]</td>\n",
       "    </tr>\n",
       "    <tr>\n",
       "      <th>Île-des-Chênes</th>\n",
       "      <td>[50000.0]</td>\n",
       "      <td>[2015]</td>\n",
       "    </tr>\n",
       "    <tr>\n",
       "      <th>Îles-de-la-Madeleine</th>\n",
       "      <td>[50000.0, 29026.0, 15936.0]</td>\n",
       "      <td>[2012, 2018, 2019]</td>\n",
       "    </tr>\n",
       "  </tbody>\n",
       "</table>\n",
       "<p>6101 rows × 2 columns</p>\n",
       "</div>"
      ],
      "text/plain": [
       "                                                        agreement_value  \\\n",
       "recipient_city                                                            \n",
       " St-Aimé-des-Lacs                                                 [0.0]   \n",
       "100 Mile House        [390035.0, 255392.0, 84007.0, 244203.0, 297318...   \n",
       "108 Mile Ranch                                        [9108.0, 26177.0]   \n",
       "150 Mile House                                         [5781.0, 6352.0]   \n",
       "70 Mile House                                                 [17644.0]   \n",
       "...                                                                 ...   \n",
       "Étang-du-Nord                                                  [6830.0]   \n",
       "Île-a-la-Crosse                                               [21900.0]   \n",
       "Île-aux-grues                                                  [1440.0]   \n",
       "Île-des-Chênes                                                [50000.0]   \n",
       "Îles-de-la-Madeleine                        [50000.0, 29026.0, 15936.0]   \n",
       "\n",
       "                                                                   year  \n",
       "recipient_city                                                           \n",
       " St-Aimé-des-Lacs                                                [2019]  \n",
       "100 Mile House        [2006, 2007, 2008, 2009, 2010, 2012, 2013, 201...  \n",
       "108 Mile Ranch                                             [2018, 2019]  \n",
       "150 Mile House                                             [2018, 2019]  \n",
       "70 Mile House                                                    [2019]  \n",
       "...                                                                 ...  \n",
       "Étang-du-Nord                                                    [2019]  \n",
       "Île-a-la-Crosse                                                  [2019]  \n",
       "Île-aux-grues                                                    [2018]  \n",
       "Île-des-Chênes                                                   [2015]  \n",
       "Îles-de-la-Madeleine                                 [2012, 2018, 2019]  \n",
       "\n",
       "[6101 rows x 2 columns]"
      ]
     },
     "execution_count": 603,
     "metadata": {},
     "output_type": "execute_result"
    }
   ],
   "source": [
    "ESDCOVER_VALUE_TIME"
   ]
  },
  {
   "cell_type": "code",
   "execution_count": 618,
   "metadata": {},
   "outputs": [],
   "source": [
    "#This plot shows how ESDC has been spending their money over time "
   ]
  },
  {
   "cell_type": "code",
   "execution_count": 615,
   "metadata": {},
   "outputs": [
    {
     "data": {
      "text/plain": [
       "<matplotlib.axes._subplots.AxesSubplot at 0x136422e50>"
      ]
     },
     "execution_count": 615,
     "metadata": {},
     "output_type": "execute_result"
    },
    {
     "data": {
      "image/png": "[encoded data removed]",
      "text/plain": [
       "<Figure size 432x288 with 1 Axes>"
      ]
     },
     "metadata": {
      "needs_background": "light"
     },
     "output_type": "display_data"
    }
   ],
   "source": [
    "SortedESDCcleanCity2.plot()"
   ]
  },
  {
   "cell_type": "code",
   "execution_count": 422,
   "metadata": {},
   "outputs": [],
   "source": [
    "SortedESDCcleanCityToronto = SortedESDCclean[SortedESDCclean['recipient_city'].str.contains('Toronto', na=False)]"
   ]
  },
  {
   "cell_type": "code",
   "execution_count": 619,
   "metadata": {},
   "outputs": [],
   "source": [
    "SortedESDCcleanCityTorontoTime = SortedESDCcleanCityToronto.sort_values(by=['year'])"
   ]
  },
  {
   "cell_type": "code",
   "execution_count": 620,
   "metadata": {},
   "outputs": [],
   "source": [
    "Toronto = SortedESDCcleanCityTorontoTime[['agreement_value','year']]"
   ]
  },
  {
   "cell_type": "code",
   "execution_count": 621,
   "metadata": {},
   "outputs": [
    {
     "data": {
      "text/html": [
       "<div>\n",
       "<style scoped>\n",
       "    .dataframe tbody tr th:only-of-type {\n",
       "        vertical-align: middle;\n",
       "    }\n",
       "\n",
       "    .dataframe tbody tr th {\n",
       "        vertical-align: top;\n",
       "    }\n",
       "\n",
       "    .dataframe thead th {\n",
       "        text-align: right;\n",
       "    }\n",
       "</style>\n",
       "<table border=\"1\" class=\"dataframe\">\n",
       "  <thead>\n",
       "    <tr style=\"text-align: right;\">\n",
       "      <th></th>\n",
       "      <th>agreement_value</th>\n",
       "      <th>year</th>\n",
       "    </tr>\n",
       "  </thead>\n",
       "  <tbody>\n",
       "    <tr>\n",
       "      <th>146538</th>\n",
       "      <td>437000.0</td>\n",
       "      <td>2006</td>\n",
       "    </tr>\n",
       "    <tr>\n",
       "      <th>147350</th>\n",
       "      <td>368406.0</td>\n",
       "      <td>2006</td>\n",
       "    </tr>\n",
       "    <tr>\n",
       "      <th>133786</th>\n",
       "      <td>443378.0</td>\n",
       "      <td>2006</td>\n",
       "    </tr>\n",
       "    <tr>\n",
       "      <th>146942</th>\n",
       "      <td>47915.0</td>\n",
       "      <td>2006</td>\n",
       "    </tr>\n",
       "    <tr>\n",
       "      <th>132384</th>\n",
       "      <td>31474.0</td>\n",
       "      <td>2006</td>\n",
       "    </tr>\n",
       "    <tr>\n",
       "      <th>...</th>\n",
       "      <td>...</td>\n",
       "      <td>...</td>\n",
       "    </tr>\n",
       "    <tr>\n",
       "      <th>152608</th>\n",
       "      <td>16705.0</td>\n",
       "      <td>2019</td>\n",
       "    </tr>\n",
       "    <tr>\n",
       "      <th>189906</th>\n",
       "      <td>0.0</td>\n",
       "      <td>2019</td>\n",
       "    </tr>\n",
       "    <tr>\n",
       "      <th>153902</th>\n",
       "      <td>25000.0</td>\n",
       "      <td>2019</td>\n",
       "    </tr>\n",
       "    <tr>\n",
       "      <th>153192</th>\n",
       "      <td>500000.0</td>\n",
       "      <td>2019</td>\n",
       "    </tr>\n",
       "    <tr>\n",
       "      <th>188867</th>\n",
       "      <td>230000.0</td>\n",
       "      <td>2019</td>\n",
       "    </tr>\n",
       "  </tbody>\n",
       "</table>\n",
       "<p>3801 rows × 2 columns</p>\n",
       "</div>"
      ],
      "text/plain": [
       "        agreement_value  year\n",
       "146538         437000.0  2006\n",
       "147350         368406.0  2006\n",
       "133786         443378.0  2006\n",
       "146942          47915.0  2006\n",
       "132384          31474.0  2006\n",
       "...                 ...   ...\n",
       "152608          16705.0  2019\n",
       "189906              0.0  2019\n",
       "153902          25000.0  2019\n",
       "153192         500000.0  2019\n",
       "188867         230000.0  2019\n",
       "\n",
       "[3801 rows x 2 columns]"
      ]
     },
     "execution_count": 621,
     "metadata": {},
     "output_type": "execute_result"
    }
   ],
   "source": [
    "Toronto.sort_values(by=['year'])"
   ]
  },
  {
   "cell_type": "code",
   "execution_count": 622,
   "metadata": {},
   "outputs": [],
   "source": [
    "TorontoDF = Toronto.groupby('year').sum()"
   ]
  },
  {
   "cell_type": "code",
   "execution_count": 624,
   "metadata": {},
   "outputs": [],
   "source": [
    "#This plot shows exactly how much money Toronto has been receiving over time"
   ]
  },
  {
   "cell_type": "code",
   "execution_count": 625,
   "metadata": {},
   "outputs": [
    {
     "data": {
      "text/plain": [
       "<matplotlib.axes._subplots.AxesSubplot at 0x13631fc90>"
      ]
     },
     "execution_count": 625,
     "metadata": {},
     "output_type": "execute_result"
    },
    {
     "data": {
      "image/png": "[encoded data removed]",
      "text/plain": [
       "<Figure size 432x288 with 1 Axes>"
      ]
     },
     "metadata": {
      "needs_background": "light"
     },
     "output_type": "display_data"
    }
   ],
   "source": [
    "TorontoDF.plot()"
   ]
  },
  {
   "cell_type": "code",
   "execution_count": 428,
   "metadata": {},
   "outputs": [],
   "source": [
    "SortedESDCcleanCityOttawa = SortedESDCclean[SortedESDCclean['recipient_city'].str.contains('Ottawa', na=False)]"
   ]
  },
  {
   "cell_type": "code",
   "execution_count": 429,
   "metadata": {},
   "outputs": [
    {
     "data": {
      "text/html": [
       "<div>\n",
       "<style scoped>\n",
       "    .dataframe tbody tr th:only-of-type {\n",
       "        vertical-align: middle;\n",
       "    }\n",
       "\n",
       "    .dataframe tbody tr th {\n",
       "        vertical-align: top;\n",
       "    }\n",
       "\n",
       "    .dataframe thead th {\n",
       "        text-align: right;\n",
       "    }\n",
       "</style>\n",
       "<table border=\"1\" class=\"dataframe\">\n",
       "  <thead>\n",
       "    <tr style=\"text-align: right;\">\n",
       "      <th></th>\n",
       "      <th>recipient_legal_name</th>\n",
       "      <th>recipient_city</th>\n",
       "      <th>agreement_value</th>\n",
       "      <th>year</th>\n",
       "    </tr>\n",
       "  </thead>\n",
       "  <tbody>\n",
       "    <tr>\n",
       "      <th>146213</th>\n",
       "      <td>Canadian Association of the Deaf</td>\n",
       "      <td>Ottawa</td>\n",
       "      <td>367098.0</td>\n",
       "      <td>2006</td>\n",
       "    </tr>\n",
       "    <tr>\n",
       "      <th>146540</th>\n",
       "      <td>Canadian Tourism Human Resource Council</td>\n",
       "      <td>Ottawa</td>\n",
       "      <td>3000000.0</td>\n",
       "      <td>2006</td>\n",
       "    </tr>\n",
       "    <tr>\n",
       "      <th>146916</th>\n",
       "      <td>Association of Canadian Community Colleges</td>\n",
       "      <td>Ottawa</td>\n",
       "      <td>495980.0</td>\n",
       "      <td>2006</td>\n",
       "    </tr>\n",
       "    <tr>\n",
       "      <th>146899</th>\n",
       "      <td>Construction Sector Council</td>\n",
       "      <td>Ottawa</td>\n",
       "      <td>147923.0</td>\n",
       "      <td>2006</td>\n",
       "    </tr>\n",
       "    <tr>\n",
       "      <th>146234</th>\n",
       "      <td>Electricity Sector Council</td>\n",
       "      <td>Ottawa</td>\n",
       "      <td>137013.0</td>\n",
       "      <td>2006</td>\n",
       "    </tr>\n",
       "    <tr>\n",
       "      <th>...</th>\n",
       "      <td>...</td>\n",
       "      <td>...</td>\n",
       "      <td>...</td>\n",
       "      <td>...</td>\n",
       "    </tr>\n",
       "    <tr>\n",
       "      <th>153818</th>\n",
       "      <td>Abbeyfield Houses Society of Ottawa</td>\n",
       "      <td>Ottawa</td>\n",
       "      <td>19715.0</td>\n",
       "      <td>2019</td>\n",
       "    </tr>\n",
       "    <tr>\n",
       "      <th>153723</th>\n",
       "      <td>Social Planning Council of Ottawa</td>\n",
       "      <td>Ottawa</td>\n",
       "      <td>24643.0</td>\n",
       "      <td>2019</td>\n",
       "    </tr>\n",
       "    <tr>\n",
       "      <th>153721</th>\n",
       "      <td>Ottawa Chinese Canadian Heritage Centre</td>\n",
       "      <td>Ottawa</td>\n",
       "      <td>25000.0</td>\n",
       "      <td>2019</td>\n",
       "    </tr>\n",
       "    <tr>\n",
       "      <th>189833</th>\n",
       "      <td>8830029 Canada Inc</td>\n",
       "      <td>Ottawa</td>\n",
       "      <td>0.0</td>\n",
       "      <td>2019</td>\n",
       "    </tr>\n",
       "    <tr>\n",
       "      <th>174698</th>\n",
       "      <td>Speed Skating Canada Patinage de vitesse Canada</td>\n",
       "      <td>Ottawa</td>\n",
       "      <td>4095.0</td>\n",
       "      <td>2019</td>\n",
       "    </tr>\n",
       "  </tbody>\n",
       "</table>\n",
       "<p>1633 rows × 4 columns</p>\n",
       "</div>"
      ],
      "text/plain": [
       "                                   recipient_legal_name recipient_city  \\\n",
       "146213                 Canadian Association of the Deaf         Ottawa   \n",
       "146540          Canadian Tourism Human Resource Council         Ottawa   \n",
       "146916       Association of Canadian Community Colleges         Ottawa   \n",
       "146899                      Construction Sector Council         Ottawa   \n",
       "146234                       Electricity Sector Council         Ottawa   \n",
       "...                                                 ...            ...   \n",
       "153818              Abbeyfield Houses Society of Ottawa         Ottawa   \n",
       "153723                Social Planning Council of Ottawa         Ottawa   \n",
       "153721          Ottawa Chinese Canadian Heritage Centre         Ottawa   \n",
       "189833                               8830029 Canada Inc         Ottawa   \n",
       "174698  Speed Skating Canada Patinage de vitesse Canada         Ottawa   \n",
       "\n",
       "        agreement_value  year  \n",
       "146213         367098.0  2006  \n",
       "146540        3000000.0  2006  \n",
       "146916         495980.0  2006  \n",
       "146899         147923.0  2006  \n",
       "146234         137013.0  2006  \n",
       "...                 ...   ...  \n",
       "153818          19715.0  2019  \n",
       "153723          24643.0  2019  \n",
       "153721          25000.0  2019  \n",
       "189833              0.0  2019  \n",
       "174698           4095.0  2019  \n",
       "\n",
       "[1633 rows x 4 columns]"
      ]
     },
     "execution_count": 429,
     "metadata": {},
     "output_type": "execute_result"
    }
   ],
   "source": [
    "SortedESDCcleanCityOttawa.sort_values(by=['year'])"
   ]
  },
  {
   "cell_type": "code",
   "execution_count": 430,
   "metadata": {},
   "outputs": [],
   "source": [
    "OttawaDF = SortedESDCcleanCityOttawa.groupby('year').sum()"
   ]
  },
  {
   "cell_type": "code",
   "execution_count": 431,
   "metadata": {},
   "outputs": [
    {
     "data": {
      "text/plain": [
       "<matplotlib.axes._subplots.AxesSubplot at 0x1296633d0>"
      ]
     },
     "execution_count": 431,
     "metadata": {},
     "output_type": "execute_result"
    },
    {
     "data": {
      "image/png": "[encoded data removed]",
      "text/plain": [
       "<Figure size 432x288 with 1 Axes>"
      ]
     },
     "metadata": {
      "needs_background": "light"
     },
     "output_type": "display_data"
    }
   ],
   "source": [
    "OttawaDF.plot()"
   ]
  },
  {
   "cell_type": "code",
   "execution_count": 432,
   "metadata": {},
   "outputs": [],
   "source": [
    "SortedESDCcleanCityMTL = SortedESDCclean[SortedESDCclean['recipient_city'].str.contains('Montreal', na=False)]"
   ]
  },
  {
   "cell_type": "code",
   "execution_count": 433,
   "metadata": {},
   "outputs": [
    {
     "data": {
      "text/html": [
       "<div>\n",
       "<style scoped>\n",
       "    .dataframe tbody tr th:only-of-type {\n",
       "        vertical-align: middle;\n",
       "    }\n",
       "\n",
       "    .dataframe tbody tr th {\n",
       "        vertical-align: top;\n",
       "    }\n",
       "\n",
       "    .dataframe thead th {\n",
       "        text-align: right;\n",
       "    }\n",
       "</style>\n",
       "<table border=\"1\" class=\"dataframe\">\n",
       "  <thead>\n",
       "    <tr style=\"text-align: right;\">\n",
       "      <th></th>\n",
       "      <th>recipient_legal_name</th>\n",
       "      <th>recipient_city</th>\n",
       "      <th>agreement_value</th>\n",
       "      <th>year</th>\n",
       "    </tr>\n",
       "  </thead>\n",
       "  <tbody>\n",
       "    <tr>\n",
       "      <th>140263</th>\n",
       "      <td>The Centre for Literacy</td>\n",
       "      <td>Montreal</td>\n",
       "      <td>51316.0</td>\n",
       "      <td>2008</td>\n",
       "    </tr>\n",
       "    <tr>\n",
       "      <th>143076</th>\n",
       "      <td>Carrefour Familial Hochelaga</td>\n",
       "      <td>Montreal</td>\n",
       "      <td>118998.0</td>\n",
       "      <td>2009</td>\n",
       "    </tr>\n",
       "    <tr>\n",
       "      <th>142875</th>\n",
       "      <td>Conseil des Arts de Montréal.</td>\n",
       "      <td>Montreal</td>\n",
       "      <td>80402.0</td>\n",
       "      <td>2009</td>\n",
       "    </tr>\n",
       "    <tr>\n",
       "      <th>143004</th>\n",
       "      <td>Projets Autochtones du Québec</td>\n",
       "      <td>Montreal</td>\n",
       "      <td>115020.0</td>\n",
       "      <td>2009</td>\n",
       "    </tr>\n",
       "    <tr>\n",
       "      <th>142554</th>\n",
       "      <td>L'Association des Jeunes de la Petite Bourgogne</td>\n",
       "      <td>Montreal</td>\n",
       "      <td>95997.0</td>\n",
       "      <td>2009</td>\n",
       "    </tr>\n",
       "    <tr>\n",
       "      <th>...</th>\n",
       "      <td>...</td>\n",
       "      <td>...</td>\n",
       "      <td>...</td>\n",
       "      <td>...</td>\n",
       "    </tr>\n",
       "    <tr>\n",
       "      <th>148275</th>\n",
       "      <td>Société pour l'organisation du Forum mondial s...</td>\n",
       "      <td>Montreal</td>\n",
       "      <td>250000.0</td>\n",
       "      <td>2016</td>\n",
       "    </tr>\n",
       "    <tr>\n",
       "      <th>150147</th>\n",
       "      <td>YM-YWHA Montreal Jewish Community Centre</td>\n",
       "      <td>Montreal</td>\n",
       "      <td>27694.0</td>\n",
       "      <td>2016</td>\n",
       "    </tr>\n",
       "    <tr>\n",
       "      <th>152457</th>\n",
       "      <td>Canadian Caregiver Network</td>\n",
       "      <td>Montreal</td>\n",
       "      <td>450000.0</td>\n",
       "      <td>2018</td>\n",
       "    </tr>\n",
       "    <tr>\n",
       "      <th>152456</th>\n",
       "      <td>The J.W. McConnell Family Foundation</td>\n",
       "      <td>Montreal</td>\n",
       "      <td>403772.0</td>\n",
       "      <td>2018</td>\n",
       "    </tr>\n",
       "    <tr>\n",
       "      <th>185376</th>\n",
       "      <td>Montreal United</td>\n",
       "      <td>Montreal-West</td>\n",
       "      <td>0.0</td>\n",
       "      <td>2019</td>\n",
       "    </tr>\n",
       "  </tbody>\n",
       "</table>\n",
       "<p>617 rows × 4 columns</p>\n",
       "</div>"
      ],
      "text/plain": [
       "                                     recipient_legal_name recipient_city  \\\n",
       "140263                            The Centre for Literacy       Montreal   \n",
       "143076                       Carrefour Familial Hochelaga       Montreal   \n",
       "142875                      Conseil des Arts de Montréal.       Montreal   \n",
       "143004                      Projets Autochtones du Québec       Montreal   \n",
       "142554    L'Association des Jeunes de la Petite Bourgogne       Montreal   \n",
       "...                                                   ...            ...   \n",
       "148275  Société pour l'organisation du Forum mondial s...       Montreal   \n",
       "150147           YM-YWHA Montreal Jewish Community Centre       Montreal   \n",
       "152457                         Canadian Caregiver Network       Montreal   \n",
       "152456               The J.W. McConnell Family Foundation       Montreal   \n",
       "185376                                    Montreal United  Montreal-West   \n",
       "\n",
       "        agreement_value  year  \n",
       "140263          51316.0  2008  \n",
       "143076         118998.0  2009  \n",
       "142875          80402.0  2009  \n",
       "143004         115020.0  2009  \n",
       "142554          95997.0  2009  \n",
       "...                 ...   ...  \n",
       "148275         250000.0  2016  \n",
       "150147          27694.0  2016  \n",
       "152457         450000.0  2018  \n",
       "152456         403772.0  2018  \n",
       "185376              0.0  2019  \n",
       "\n",
       "[617 rows x 4 columns]"
      ]
     },
     "execution_count": 433,
     "metadata": {},
     "output_type": "execute_result"
    }
   ],
   "source": [
    "SortedESDCcleanCityMTL.sort_values(by=['year'])"
   ]
  },
  {
   "cell_type": "code",
   "execution_count": 434,
   "metadata": {},
   "outputs": [],
   "source": [
    "MTLDF = SortedESDCcleanCityMTL.groupby('year').sum()"
   ]
  },
  {
   "cell_type": "code",
   "execution_count": 436,
   "metadata": {},
   "outputs": [
    {
     "data": {
      "text/html": [
       "<div>\n",
       "<style scoped>\n",
       "    .dataframe tbody tr th:only-of-type {\n",
       "        vertical-align: middle;\n",
       "    }\n",
       "\n",
       "    .dataframe tbody tr th {\n",
       "        vertical-align: top;\n",
       "    }\n",
       "\n",
       "    .dataframe thead th {\n",
       "        text-align: right;\n",
       "    }\n",
       "</style>\n",
       "<table border=\"1\" class=\"dataframe\">\n",
       "  <thead>\n",
       "    <tr style=\"text-align: right;\">\n",
       "      <th></th>\n",
       "      <th>agreement_value</th>\n",
       "    </tr>\n",
       "    <tr>\n",
       "      <th>year</th>\n",
       "      <th></th>\n",
       "    </tr>\n",
       "  </thead>\n",
       "  <tbody>\n",
       "    <tr>\n",
       "      <th>2008</th>\n",
       "      <td>51316.0</td>\n",
       "    </tr>\n",
       "    <tr>\n",
       "      <th>2009</th>\n",
       "      <td>16413782.0</td>\n",
       "    </tr>\n",
       "    <tr>\n",
       "      <th>2010</th>\n",
       "      <td>26681825.0</td>\n",
       "    </tr>\n",
       "    <tr>\n",
       "      <th>2011</th>\n",
       "      <td>11023132.0</td>\n",
       "    </tr>\n",
       "    <tr>\n",
       "      <th>2012</th>\n",
       "      <td>22645015.0</td>\n",
       "    </tr>\n",
       "    <tr>\n",
       "      <th>2013</th>\n",
       "      <td>10852237.0</td>\n",
       "    </tr>\n",
       "    <tr>\n",
       "      <th>2014</th>\n",
       "      <td>235114.0</td>\n",
       "    </tr>\n",
       "    <tr>\n",
       "      <th>2016</th>\n",
       "      <td>12830953.0</td>\n",
       "    </tr>\n",
       "    <tr>\n",
       "      <th>2018</th>\n",
       "      <td>853772.0</td>\n",
       "    </tr>\n",
       "    <tr>\n",
       "      <th>2019</th>\n",
       "      <td>0.0</td>\n",
       "    </tr>\n",
       "  </tbody>\n",
       "</table>\n",
       "</div>"
      ],
      "text/plain": [
       "      agreement_value\n",
       "year                 \n",
       "2008          51316.0\n",
       "2009       16413782.0\n",
       "2010       26681825.0\n",
       "2011       11023132.0\n",
       "2012       22645015.0\n",
       "2013       10852237.0\n",
       "2014         235114.0\n",
       "2016       12830953.0\n",
       "2018         853772.0\n",
       "2019              0.0"
      ]
     },
     "execution_count": 436,
     "metadata": {},
     "output_type": "execute_result"
    }
   ],
   "source": [
    "MTLDF"
   ]
  },
  {
   "cell_type": "code",
   "execution_count": 435,
   "metadata": {},
   "outputs": [
    {
     "data": {
      "text/plain": [
       "<matplotlib.axes._subplots.AxesSubplot at 0x1270d09d0>"
      ]
     },
     "execution_count": 435,
     "metadata": {},
     "output_type": "execute_result"
    },
    {
     "data": {
      "image/png": "[encoded data removed]",
      "text/plain": [
       "<Figure size 432x288 with 1 Axes>"
      ]
     },
     "metadata": {
      "needs_background": "light"
     },
     "output_type": "display_data"
    }
   ],
   "source": [
    "MTLDF.plot()"
   ]
  },
  {
   "cell_type": "code",
   "execution_count": 632,
   "metadata": {},
   "outputs": [],
   "source": [
    "SortedInnoAndScienceBC = SortedInnoAndScience[SortedInnoAndScience['recipient_city'].str.contains('Vancouver', na=False)]"
   ]
  },
  {
   "cell_type": "code",
   "execution_count": 633,
   "metadata": {},
   "outputs": [
    {
     "data": {
      "text/html": [
       "<div>\n",
       "<style scoped>\n",
       "    .dataframe tbody tr th:only-of-type {\n",
       "        vertical-align: middle;\n",
       "    }\n",
       "\n",
       "    .dataframe tbody tr th {\n",
       "        vertical-align: top;\n",
       "    }\n",
       "\n",
       "    .dataframe thead th {\n",
       "        text-align: right;\n",
       "    }\n",
       "</style>\n",
       "<table border=\"1\" class=\"dataframe\">\n",
       "  <thead>\n",
       "    <tr style=\"text-align: right;\">\n",
       "      <th></th>\n",
       "      <th>ref_number</th>\n",
       "      <th>recipient_legal_name</th>\n",
       "      <th>recipient_city</th>\n",
       "      <th>prog_name_en</th>\n",
       "      <th>prog_purpose_en</th>\n",
       "      <th>agreement_title_en</th>\n",
       "      <th>agreement_number</th>\n",
       "      <th>agreement_value</th>\n",
       "      <th>agreement_start_date</th>\n",
       "      <th>agreement_end_date</th>\n",
       "      <th>description_en</th>\n",
       "      <th>expected_results_en</th>\n",
       "      <th>additional_information_en</th>\n",
       "      <th>owner_org_title</th>\n",
       "    </tr>\n",
       "  </thead>\n",
       "  <tbody>\n",
       "    <tr>\n",
       "      <th>196647</th>\n",
       "      <td>230-2019-2020-09-0139</td>\n",
       "      <td>Tetra Society of North America</td>\n",
       "      <td>Vancouver</td>\n",
       "      <td>Accessible Technology Development Program</td>\n",
       "      <td>The main objective of the Program is the devel...</td>\n",
       "      <td>NaN</td>\n",
       "      <td>512598</td>\n",
       "      <td>529300.0</td>\n",
       "      <td>2019-09-01</td>\n",
       "      <td>2021-03-31</td>\n",
       "      <td>The netClé project is the development of a sim...</td>\n",
       "      <td>NaN</td>\n",
       "      <td>2019/20 to 2020/21</td>\n",
       "      <td>Innovation, Science and Economic Development C...</td>\n",
       "    </tr>\n",
       "    <tr>\n",
       "      <th>196213</th>\n",
       "      <td>230-2018-2019-04-0001</td>\n",
       "      <td>Reality Controls Inc.</td>\n",
       "      <td>Vancouver</td>\n",
       "      <td>Accessible Technology Development Program</td>\n",
       "      <td>The main objective of the Program is the devel...</td>\n",
       "      <td>NaN</td>\n",
       "      <td>511897</td>\n",
       "      <td>47000.0</td>\n",
       "      <td>2019-02-01</td>\n",
       "      <td>2021-03-31</td>\n",
       "      <td>Project to develop accessible technology with ...</td>\n",
       "      <td>The expected results of the Program are to dev...</td>\n",
       "      <td>Multi-Year Grant or Contribution, 2018/19 to 2...</td>\n",
       "      <td>Innovation, Science and Economic Development C...</td>\n",
       "    </tr>\n",
       "    <tr>\n",
       "      <th>196645</th>\n",
       "      <td>230-2019-2020-09-0137</td>\n",
       "      <td>Black Boys Code Society</td>\n",
       "      <td>Vancouver</td>\n",
       "      <td>CanCode</td>\n",
       "      <td>The purpose of the CanCode program is to fund ...</td>\n",
       "      <td>NaN</td>\n",
       "      <td>512578</td>\n",
       "      <td>513924.0</td>\n",
       "      <td>2019-06-21</td>\n",
       "      <td>2021-03-31</td>\n",
       "      <td>The \"Black Boys Code Eight City Expansion\" pro...</td>\n",
       "      <td>NaN</td>\n",
       "      <td>2019/20 to 2020/21</td>\n",
       "      <td>Innovation, Science and Economic Development C...</td>\n",
       "    </tr>\n",
       "    <tr>\n",
       "      <th>196449</th>\n",
       "      <td>230-2019-2020-06-0021</td>\n",
       "      <td>The Centre for Drug Research and Development (...</td>\n",
       "      <td>Vancouver</td>\n",
       "      <td>Centre for Drug Research and Development</td>\n",
       "      <td>Funding of the Centre for Drug Research and De...</td>\n",
       "      <td>NaN</td>\n",
       "      <td>511806</td>\n",
       "      <td>48000000.0</td>\n",
       "      <td>2019-04-01</td>\n",
       "      <td>2022-07-31</td>\n",
       "      <td>Funding to continue to grow the Centre's pipel...</td>\n",
       "      <td>Through the activities undertaken with the con...</td>\n",
       "      <td>2019/20 to 2022/23 Belongs to a previous quarter</td>\n",
       "      <td>Innovation, Science and Economic Development C...</td>\n",
       "    </tr>\n",
       "    <tr>\n",
       "      <th>196295</th>\n",
       "      <td>230-2018-2019-04-0078</td>\n",
       "      <td>S.U.C.C.E.S.S. (United Chinese Canadian Enrich...</td>\n",
       "      <td>Vancouver</td>\n",
       "      <td>Digital Literacy Exchange Program</td>\n",
       "      <td>The objective of the program is to ensure Cana...</td>\n",
       "      <td>NaN</td>\n",
       "      <td>511941</td>\n",
       "      <td>331575.0</td>\n",
       "      <td>2019-03-06</td>\n",
       "      <td>2022-03-31</td>\n",
       "      <td>The Immigrant Seniors Go Digital Project will ...</td>\n",
       "      <td>The expected results of the Program are to mak...</td>\n",
       "      <td>Multi-Year Grant or Contribution, 2018/19 to 2...</td>\n",
       "      <td>Innovation, Science and Economic Development C...</td>\n",
       "    </tr>\n",
       "    <tr>\n",
       "      <th>196286</th>\n",
       "      <td>230-2018-2019-04-0071</td>\n",
       "      <td>Tides Canada Initiatives Society</td>\n",
       "      <td>Vancouver</td>\n",
       "      <td>Digital Literacy Exchange Program</td>\n",
       "      <td>The objective of the program is to ensure Cana...</td>\n",
       "      <td>NaN</td>\n",
       "      <td>511881</td>\n",
       "      <td>2711217.0</td>\n",
       "      <td>2019-02-26</td>\n",
       "      <td>2022-03-31</td>\n",
       "      <td>The Digital NWT initiative will provide digita...</td>\n",
       "      <td>The expected results of the Program are to mak...</td>\n",
       "      <td>Multi-Year Grant or Contribution, 2018/19 to 2...</td>\n",
       "      <td>Innovation, Science and Economic Development C...</td>\n",
       "    </tr>\n",
       "    <tr>\n",
       "      <th>196298</th>\n",
       "      <td>230-2018-2019-04-0079</td>\n",
       "      <td>Gluu Technology Society</td>\n",
       "      <td>West Vancouver</td>\n",
       "      <td>Digital Literacy Exchange Program</td>\n",
       "      <td>The objective of the program is to ensure Cana...</td>\n",
       "      <td>NaN</td>\n",
       "      <td>511942</td>\n",
       "      <td>206750.0</td>\n",
       "      <td>2019-02-26</td>\n",
       "      <td>2022-03-31</td>\n",
       "      <td>The Gluu Digital Coaching Network initiative w...</td>\n",
       "      <td>The expected results of the Program are to mak...</td>\n",
       "      <td>Multi-Year Grant or Contribution, 2018/19 to 2...</td>\n",
       "      <td>Innovation, Science and Economic Development C...</td>\n",
       "    </tr>\n",
       "    <tr>\n",
       "      <th>196057</th>\n",
       "      <td>230-2018-2019-02-0006</td>\n",
       "      <td>Vancouver Community Network (The)</td>\n",
       "      <td>Vancouver</td>\n",
       "      <td>Digital Skills for Youth</td>\n",
       "      <td>NaN</td>\n",
       "      <td>NaN</td>\n",
       "      <td>511746</td>\n",
       "      <td>2400000.0</td>\n",
       "      <td>2018-06-01</td>\n",
       "      <td>2020-03-31</td>\n",
       "      <td>The Government of Canada has developed DS4Y to...</td>\n",
       "      <td>NaN</td>\n",
       "      <td>· Multi-Year Grant or Contribution, 2018/19 to...</td>\n",
       "      <td>Innovation, Science and Economic Development C...</td>\n",
       "    </tr>\n",
       "    <tr>\n",
       "      <th>196182</th>\n",
       "      <td>230-2018-2019-03-0056</td>\n",
       "      <td>10793574 Canada Association</td>\n",
       "      <td>Vancouver</td>\n",
       "      <td>Innovation Superclusters Initiative</td>\n",
       "      <td>NaN</td>\n",
       "      <td>NaN</td>\n",
       "      <td>511791</td>\n",
       "      <td>152843759.0</td>\n",
       "      <td>2018-03-15</td>\n",
       "      <td>2023-03-31</td>\n",
       "      <td>Based in British Columbia, the Digital Technol...</td>\n",
       "      <td>NaN</td>\n",
       "      <td>Multi-Year Grant or Contribution, 2017/18 to 2...</td>\n",
       "      <td>Innovation, Science and Economic Development C...</td>\n",
       "    </tr>\n",
       "    <tr>\n",
       "      <th>196618</th>\n",
       "      <td>230-2019-2020-09-0111</td>\n",
       "      <td>Mitacs Inc.</td>\n",
       "      <td>Greater Vancouver A</td>\n",
       "      <td>Mitacs Inc.</td>\n",
       "      <td>Support industrial research and development in...</td>\n",
       "      <td>NaN</td>\n",
       "      <td>512476</td>\n",
       "      <td>7000000.0</td>\n",
       "      <td>2019-08-19</td>\n",
       "      <td>2024-07-31</td>\n",
       "      <td>Supporting overseas internships for employees ...</td>\n",
       "      <td>NaN</td>\n",
       "      <td>2019/20 to 2023/24</td>\n",
       "      <td>Innovation, Science and Economic Development C...</td>\n",
       "    </tr>\n",
       "    <tr>\n",
       "      <th>196605</th>\n",
       "      <td>230-2019-2020-09-0109</td>\n",
       "      <td>Indigenous Tourism Association of Canada (ITAC)</td>\n",
       "      <td>Vancouver</td>\n",
       "      <td>Northern Ontario Development Program - 2011</td>\n",
       "      <td>National tourism</td>\n",
       "      <td>NaN</td>\n",
       "      <td>512454</td>\n",
       "      <td>250082.0</td>\n",
       "      <td>2019-09-02</td>\n",
       "      <td>2021-03-31</td>\n",
       "      <td>Market preparedness and brand development for ...</td>\n",
       "      <td>NaN</td>\n",
       "      <td>2019/20 to 2020/21</td>\n",
       "      <td>Innovation, Science and Economic Development C...</td>\n",
       "    </tr>\n",
       "    <tr>\n",
       "      <th>196490</th>\n",
       "      <td>230-2019-2020-06-0057</td>\n",
       "      <td>Greater Vancouver Board of Trade</td>\n",
       "      <td>Vancouver</td>\n",
       "      <td>Strategic Activities Program</td>\n",
       "      <td>Strategic Activities Program</td>\n",
       "      <td>NaN</td>\n",
       "      <td>512360</td>\n",
       "      <td>1545000.0</td>\n",
       "      <td>2019-04-15</td>\n",
       "      <td>2022-03-31</td>\n",
       "      <td>The initiative aims to increase SMEs' awarenes...</td>\n",
       "      <td>NaN</td>\n",
       "      <td>2019/20 to 2021/22</td>\n",
       "      <td>Innovation, Science and Economic Development C...</td>\n",
       "    </tr>\n",
       "  </tbody>\n",
       "</table>\n",
       "</div>"
      ],
      "text/plain": [
       "                   ref_number  \\\n",
       "196647  230-2019-2020-09-0139   \n",
       "196213  230-2018-2019-04-0001   \n",
       "196645  230-2019-2020-09-0137   \n",
       "196449  230-2019-2020-06-0021   \n",
       "196295  230-2018-2019-04-0078   \n",
       "196286  230-2018-2019-04-0071   \n",
       "196298  230-2018-2019-04-0079   \n",
       "196057  230-2018-2019-02-0006   \n",
       "196182  230-2018-2019-03-0056   \n",
       "196618  230-2019-2020-09-0111   \n",
       "196605  230-2019-2020-09-0109   \n",
       "196490  230-2019-2020-06-0057   \n",
       "\n",
       "                                     recipient_legal_name  \\\n",
       "196647                     Tetra Society of North America   \n",
       "196213                              Reality Controls Inc.   \n",
       "196645                            Black Boys Code Society   \n",
       "196449  The Centre for Drug Research and Development (...   \n",
       "196295  S.U.C.C.E.S.S. (United Chinese Canadian Enrich...   \n",
       "196286                   Tides Canada Initiatives Society   \n",
       "196298                            Gluu Technology Society   \n",
       "196057                  Vancouver Community Network (The)   \n",
       "196182                        10793574 Canada Association   \n",
       "196618                                        Mitacs Inc.   \n",
       "196605    Indigenous Tourism Association of Canada (ITAC)   \n",
       "196490                   Greater Vancouver Board of Trade   \n",
       "\n",
       "             recipient_city                                 prog_name_en  \\\n",
       "196647            Vancouver    Accessible Technology Development Program   \n",
       "196213            Vancouver    Accessible Technology Development Program   \n",
       "196645            Vancouver                                      CanCode   \n",
       "196449            Vancouver     Centre for Drug Research and Development   \n",
       "196295            Vancouver            Digital Literacy Exchange Program   \n",
       "196286            Vancouver            Digital Literacy Exchange Program   \n",
       "196298       West Vancouver            Digital Literacy Exchange Program   \n",
       "196057            Vancouver                     Digital Skills for Youth   \n",
       "196182            Vancouver          Innovation Superclusters Initiative   \n",
       "196618  Greater Vancouver A                                  Mitacs Inc.   \n",
       "196605            Vancouver  Northern Ontario Development Program - 2011   \n",
       "196490            Vancouver                 Strategic Activities Program   \n",
       "\n",
       "                                          prog_purpose_en agreement_title_en  \\\n",
       "196647  The main objective of the Program is the devel...                NaN   \n",
       "196213  The main objective of the Program is the devel...                NaN   \n",
       "196645  The purpose of the CanCode program is to fund ...                NaN   \n",
       "196449  Funding of the Centre for Drug Research and De...                NaN   \n",
       "196295  The objective of the program is to ensure Cana...                NaN   \n",
       "196286  The objective of the program is to ensure Cana...                NaN   \n",
       "196298  The objective of the program is to ensure Cana...                NaN   \n",
       "196057                                                NaN                NaN   \n",
       "196182                                                NaN                NaN   \n",
       "196618  Support industrial research and development in...                NaN   \n",
       "196605                                   National tourism                NaN   \n",
       "196490                       Strategic Activities Program                NaN   \n",
       "\n",
       "       agreement_number  agreement_value agreement_start_date  \\\n",
       "196647           512598         529300.0           2019-09-01   \n",
       "196213           511897          47000.0           2019-02-01   \n",
       "196645           512578         513924.0           2019-06-21   \n",
       "196449           511806       48000000.0           2019-04-01   \n",
       "196295           511941         331575.0           2019-03-06   \n",
       "196286           511881        2711217.0           2019-02-26   \n",
       "196298           511942         206750.0           2019-02-26   \n",
       "196057           511746        2400000.0           2018-06-01   \n",
       "196182           511791      152843759.0           2018-03-15   \n",
       "196618           512476        7000000.0           2019-08-19   \n",
       "196605           512454         250082.0           2019-09-02   \n",
       "196490           512360        1545000.0           2019-04-15   \n",
       "\n",
       "       agreement_end_date                                     description_en  \\\n",
       "196647         2021-03-31  The netClé project is the development of a sim...   \n",
       "196213         2021-03-31  Project to develop accessible technology with ...   \n",
       "196645         2021-03-31  The \"Black Boys Code Eight City Expansion\" pro...   \n",
       "196449         2022-07-31  Funding to continue to grow the Centre's pipel...   \n",
       "196295         2022-03-31  The Immigrant Seniors Go Digital Project will ...   \n",
       "196286         2022-03-31  The Digital NWT initiative will provide digita...   \n",
       "196298         2022-03-31  The Gluu Digital Coaching Network initiative w...   \n",
       "196057         2020-03-31  The Government of Canada has developed DS4Y to...   \n",
       "196182         2023-03-31  Based in British Columbia, the Digital Technol...   \n",
       "196618         2024-07-31  Supporting overseas internships for employees ...   \n",
       "196605         2021-03-31  Market preparedness and brand development for ...   \n",
       "196490         2022-03-31  The initiative aims to increase SMEs' awarenes...   \n",
       "\n",
       "                                      expected_results_en  \\\n",
       "196647                                                NaN   \n",
       "196213  The expected results of the Program are to dev...   \n",
       "196645                                                NaN   \n",
       "196449  Through the activities undertaken with the con...   \n",
       "196295  The expected results of the Program are to mak...   \n",
       "196286  The expected results of the Program are to mak...   \n",
       "196298  The expected results of the Program are to mak...   \n",
       "196057                                                NaN   \n",
       "196182                                                NaN   \n",
       "196618                                                NaN   \n",
       "196605                                                NaN   \n",
       "196490                                                NaN   \n",
       "\n",
       "                                additional_information_en  \\\n",
       "196647                                 2019/20 to 2020/21   \n",
       "196213  Multi-Year Grant or Contribution, 2018/19 to 2...   \n",
       "196645                                 2019/20 to 2020/21   \n",
       "196449   2019/20 to 2022/23 Belongs to a previous quarter   \n",
       "196295  Multi-Year Grant or Contribution, 2018/19 to 2...   \n",
       "196286  Multi-Year Grant or Contribution, 2018/19 to 2...   \n",
       "196298  Multi-Year Grant or Contribution, 2018/19 to 2...   \n",
       "196057  · Multi-Year Grant or Contribution, 2018/19 to...   \n",
       "196182  Multi-Year Grant or Contribution, 2017/18 to 2...   \n",
       "196618                                 2019/20 to 2023/24   \n",
       "196605                                 2019/20 to 2020/21   \n",
       "196490                                 2019/20 to 2021/22   \n",
       "\n",
       "                                          owner_org_title  \n",
       "196647  Innovation, Science and Economic Development C...  \n",
       "196213  Innovation, Science and Economic Development C...  \n",
       "196645  Innovation, Science and Economic Development C...  \n",
       "196449  Innovation, Science and Economic Development C...  \n",
       "196295  Innovation, Science and Economic Development C...  \n",
       "196286  Innovation, Science and Economic Development C...  \n",
       "196298  Innovation, Science and Economic Development C...  \n",
       "196057  Innovation, Science and Economic Development C...  \n",
       "196182  Innovation, Science and Economic Development C...  \n",
       "196618  Innovation, Science and Economic Development C...  \n",
       "196605  Innovation, Science and Economic Development C...  \n",
       "196490  Innovation, Science and Economic Development C...  "
      ]
     },
     "execution_count": 633,
     "metadata": {},
     "output_type": "execute_result"
    }
   ],
   "source": [
    "SortedInnoAndScienceBC"
   ]
  },
  {
   "cell_type": "code",
   "execution_count": 635,
   "metadata": {},
   "outputs": [
    {
     "name": "stderr",
     "output_type": "stream",
     "text": [
      "/Users/mac/PycharmProjects/Treasury/venv/lib/python3.7/site-packages/ipykernel_launcher.py:1: SettingWithCopyWarning: \n",
      "A value is trying to be set on a copy of a slice from a DataFrame.\n",
      "Try using .loc[row_indexer,col_indexer] = value instead\n",
      "\n",
      "See the caveats in the documentation: http://pandas.pydata.org/pandas-docs/stable/user_guide/indexing.html#returning-a-view-versus-a-copy\n",
      "  \"\"\"Entry point for launching an IPython kernel.\n"
     ]
    }
   ],
   "source": [
    "SortedInnoAndScienceBC['year'] = pd.DatetimeIndex(SortedInnoAndScienceBC['agreement_start_date']).year"
   ]
  },
  {
   "cell_type": "code",
   "execution_count": 637,
   "metadata": {},
   "outputs": [],
   "source": [
    "SortedInnoAndScienceBCFinal = SortedInnoAndScienceBC.drop(columns=['ref_number', 'prog_name_en','prog_purpose_en','agreement_title_en','agreement_number', 'agreement_start_date', 'owner_org_title', 'agreement_end_date', 'description_en', 'expected_results_en', 'additional_information_en'])"
   ]
  },
  {
   "cell_type": "code",
   "execution_count": 638,
   "metadata": {},
   "outputs": [
    {
     "data": {
      "text/html": [
       "<div>\n",
       "<style scoped>\n",
       "    .dataframe tbody tr th:only-of-type {\n",
       "        vertical-align: middle;\n",
       "    }\n",
       "\n",
       "    .dataframe tbody tr th {\n",
       "        vertical-align: top;\n",
       "    }\n",
       "\n",
       "    .dataframe thead th {\n",
       "        text-align: right;\n",
       "    }\n",
       "</style>\n",
       "<table border=\"1\" class=\"dataframe\">\n",
       "  <thead>\n",
       "    <tr style=\"text-align: right;\">\n",
       "      <th></th>\n",
       "      <th>recipient_legal_name</th>\n",
       "      <th>recipient_city</th>\n",
       "      <th>agreement_value</th>\n",
       "      <th>year</th>\n",
       "    </tr>\n",
       "  </thead>\n",
       "  <tbody>\n",
       "    <tr>\n",
       "      <th>196647</th>\n",
       "      <td>Tetra Society of North America</td>\n",
       "      <td>Vancouver</td>\n",
       "      <td>529300.0</td>\n",
       "      <td>2019</td>\n",
       "    </tr>\n",
       "    <tr>\n",
       "      <th>196213</th>\n",
       "      <td>Reality Controls Inc.</td>\n",
       "      <td>Vancouver</td>\n",
       "      <td>47000.0</td>\n",
       "      <td>2019</td>\n",
       "    </tr>\n",
       "    <tr>\n",
       "      <th>196645</th>\n",
       "      <td>Black Boys Code Society</td>\n",
       "      <td>Vancouver</td>\n",
       "      <td>513924.0</td>\n",
       "      <td>2019</td>\n",
       "    </tr>\n",
       "    <tr>\n",
       "      <th>196449</th>\n",
       "      <td>The Centre for Drug Research and Development (...</td>\n",
       "      <td>Vancouver</td>\n",
       "      <td>48000000.0</td>\n",
       "      <td>2019</td>\n",
       "    </tr>\n",
       "    <tr>\n",
       "      <th>196295</th>\n",
       "      <td>S.U.C.C.E.S.S. (United Chinese Canadian Enrich...</td>\n",
       "      <td>Vancouver</td>\n",
       "      <td>331575.0</td>\n",
       "      <td>2019</td>\n",
       "    </tr>\n",
       "    <tr>\n",
       "      <th>196286</th>\n",
       "      <td>Tides Canada Initiatives Society</td>\n",
       "      <td>Vancouver</td>\n",
       "      <td>2711217.0</td>\n",
       "      <td>2019</td>\n",
       "    </tr>\n",
       "    <tr>\n",
       "      <th>196298</th>\n",
       "      <td>Gluu Technology Society</td>\n",
       "      <td>West Vancouver</td>\n",
       "      <td>206750.0</td>\n",
       "      <td>2019</td>\n",
       "    </tr>\n",
       "    <tr>\n",
       "      <th>196057</th>\n",
       "      <td>Vancouver Community Network (The)</td>\n",
       "      <td>Vancouver</td>\n",
       "      <td>2400000.0</td>\n",
       "      <td>2018</td>\n",
       "    </tr>\n",
       "    <tr>\n",
       "      <th>196182</th>\n",
       "      <td>10793574 Canada Association</td>\n",
       "      <td>Vancouver</td>\n",
       "      <td>152843759.0</td>\n",
       "      <td>2018</td>\n",
       "    </tr>\n",
       "    <tr>\n",
       "      <th>196618</th>\n",
       "      <td>Mitacs Inc.</td>\n",
       "      <td>Greater Vancouver A</td>\n",
       "      <td>7000000.0</td>\n",
       "      <td>2019</td>\n",
       "    </tr>\n",
       "    <tr>\n",
       "      <th>196605</th>\n",
       "      <td>Indigenous Tourism Association of Canada (ITAC)</td>\n",
       "      <td>Vancouver</td>\n",
       "      <td>250082.0</td>\n",
       "      <td>2019</td>\n",
       "    </tr>\n",
       "    <tr>\n",
       "      <th>196490</th>\n",
       "      <td>Greater Vancouver Board of Trade</td>\n",
       "      <td>Vancouver</td>\n",
       "      <td>1545000.0</td>\n",
       "      <td>2019</td>\n",
       "    </tr>\n",
       "  </tbody>\n",
       "</table>\n",
       "</div>"
      ],
      "text/plain": [
       "                                     recipient_legal_name  \\\n",
       "196647                     Tetra Society of North America   \n",
       "196213                              Reality Controls Inc.   \n",
       "196645                            Black Boys Code Society   \n",
       "196449  The Centre for Drug Research and Development (...   \n",
       "196295  S.U.C.C.E.S.S. (United Chinese Canadian Enrich...   \n",
       "196286                   Tides Canada Initiatives Society   \n",
       "196298                            Gluu Technology Society   \n",
       "196057                  Vancouver Community Network (The)   \n",
       "196182                        10793574 Canada Association   \n",
       "196618                                        Mitacs Inc.   \n",
       "196605    Indigenous Tourism Association of Canada (ITAC)   \n",
       "196490                   Greater Vancouver Board of Trade   \n",
       "\n",
       "             recipient_city  agreement_value  year  \n",
       "196647            Vancouver         529300.0  2019  \n",
       "196213            Vancouver          47000.0  2019  \n",
       "196645            Vancouver         513924.0  2019  \n",
       "196449            Vancouver       48000000.0  2019  \n",
       "196295            Vancouver         331575.0  2019  \n",
       "196286            Vancouver        2711217.0  2019  \n",
       "196298       West Vancouver         206750.0  2019  \n",
       "196057            Vancouver        2400000.0  2018  \n",
       "196182            Vancouver      152843759.0  2018  \n",
       "196618  Greater Vancouver A        7000000.0  2019  \n",
       "196605            Vancouver         250082.0  2019  \n",
       "196490            Vancouver        1545000.0  2019  "
      ]
     },
     "execution_count": 638,
     "metadata": {},
     "output_type": "execute_result"
    }
   ],
   "source": [
    "SortedInnoAndScienceBCFinal"
   ]
  },
  {
   "cell_type": "code",
   "execution_count": 642,
   "metadata": {},
   "outputs": [
    {
     "data": {
      "text/html": [
       "<div>\n",
       "<style scoped>\n",
       "    .dataframe tbody tr th:only-of-type {\n",
       "        vertical-align: middle;\n",
       "    }\n",
       "\n",
       "    .dataframe tbody tr th {\n",
       "        vertical-align: top;\n",
       "    }\n",
       "\n",
       "    .dataframe thead th {\n",
       "        text-align: right;\n",
       "    }\n",
       "</style>\n",
       "<table border=\"1\" class=\"dataframe\">\n",
       "  <thead>\n",
       "    <tr style=\"text-align: right;\">\n",
       "      <th></th>\n",
       "      <th></th>\n",
       "      <th>agreement_value</th>\n",
       "    </tr>\n",
       "    <tr>\n",
       "      <th>recipient_city</th>\n",
       "      <th>year</th>\n",
       "      <th></th>\n",
       "    </tr>\n",
       "  </thead>\n",
       "  <tbody>\n",
       "    <tr>\n",
       "      <th>Greater Vancouver A</th>\n",
       "      <th>2019</th>\n",
       "      <td>7000000.0</td>\n",
       "    </tr>\n",
       "    <tr>\n",
       "      <th rowspan=\"2\" valign=\"top\">Vancouver</th>\n",
       "      <th>2018</th>\n",
       "      <td>155243759.0</td>\n",
       "    </tr>\n",
       "    <tr>\n",
       "      <th>2019</th>\n",
       "      <td>53928098.0</td>\n",
       "    </tr>\n",
       "    <tr>\n",
       "      <th>West Vancouver</th>\n",
       "      <th>2019</th>\n",
       "      <td>206750.0</td>\n",
       "    </tr>\n",
       "  </tbody>\n",
       "</table>\n",
       "</div>"
      ],
      "text/plain": [
       "                          agreement_value\n",
       "recipient_city      year                 \n",
       "Greater Vancouver A 2019        7000000.0\n",
       "Vancouver           2018      155243759.0\n",
       "                    2019       53928098.0\n",
       "West Vancouver      2019         206750.0"
      ]
     },
     "execution_count": 642,
     "metadata": {},
     "output_type": "execute_result"
    }
   ],
   "source": [
    "SortedInnoAndScienceBCFinal.groupby(['recipient_city', 'year']).sum()"
   ]
  },
  {
   "cell_type": "code",
   "execution_count": null,
   "metadata": {},
   "outputs": [],
   "source": []
  }
 ],
 "metadata": {
  "kernelspec": {
   "display_name": "Python 3",
   "language": "python",
   "name": "python3"
  },
  "language_info": {
   "codemirror_mode": {
    "name": "ipython",
    "version": 3
   },
   "file_extension": ".py",
   "mimetype": "text/x-python",
   "name": "python",
   "nbconvert_exporter": "python",
   "pygments_lexer": "ipython3",
   "version": "3.7.4"
  }
 },
 "nbformat": 4,
 "nbformat_minor": 4
}
